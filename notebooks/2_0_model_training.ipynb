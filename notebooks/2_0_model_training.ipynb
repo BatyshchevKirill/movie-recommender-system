{
  "nbformat": 4,
  "nbformat_minor": 0,
  "metadata": {
    "colab": {
      "provenance": []
    },
    "kernelspec": {
      "name": "python3",
      "display_name": "Python 3"
    },
    "language_info": {
      "name": "python"
    }
  },
  "cells": [
    {
      "cell_type": "markdown",
      "source": [
        "# Prepare to run in Colab"
      ],
      "metadata": {
        "id": "Bm75wFGkpEGq"
      }
    },
    {
      "cell_type": "code",
      "source": [
        "# ! rm -r /content/movie-recommender-system\n",
        "# import os\n",
        "\n",
        "# os.chdir('/content/')"
      ],
      "metadata": {
        "id": "qE6Ik6_iiKS5",
        "colab": {
          "base_uri": "https://localhost:8080/"
        },
        "outputId": "9546e679-7cd2-4567-e2d7-47041d1673de"
      },
      "execution_count": 1,
      "outputs": [
        {
          "output_type": "stream",
          "name": "stdout",
          "text": [
            "rm: cannot remove '/content/movie-recommender-system': No such file or directory\n"
          ]
        }
      ]
    },
    {
      "cell_type": "code",
      "execution_count": 1,
      "metadata": {
        "id": "mDlzZ7bUR7t7",
        "colab": {
          "base_uri": "https://localhost:8080/"
        },
        "outputId": "bbb036c4-2107-4d40-da0f-3109f9ade5d0"
      },
      "outputs": [
        {
          "output_type": "stream",
          "name": "stdout",
          "text": [
            "Cloning into 'movie-recommender-system'...\n",
            "remote: Enumerating objects: 90, done.\u001b[K\n",
            "remote: Counting objects: 100% (90/90), done.\u001b[K\n",
            "remote: Compressing objects: 100% (64/64), done.\u001b[K\n",
            "remote: Total 90 (delta 49), reused 53 (delta 20), pack-reused 0\u001b[K\n",
            "Receiving objects: 100% (90/90), 19.51 KiB | 6.50 MiB/s, done.\n",
            "Resolving deltas: 100% (49/49), done.\n"
          ]
        }
      ],
      "source": [
        "!git clone https://BatyshchevKirill@github.com/BatyshchevKirill/movie-recommender-system.git"
      ]
    },
    {
      "cell_type": "code",
      "source": [
        "import sys\n",
        "import os\n",
        "\n",
        "BASE_PATH = \"/content/movie-recommender-system/\"\n",
        "os.chdir(BASE_PATH)\n",
        "sys.path.append(BASE_PATH)"
      ],
      "metadata": {
        "id": "DWJk9Ax_gGNI"
      },
      "execution_count": 2,
      "outputs": []
    },
    {
      "cell_type": "code",
      "source": [
        "!pip install -r requirements.txt"
      ],
      "metadata": {
        "id": "K-Qck_kqhf2Y"
      },
      "execution_count": null,
      "outputs": []
    },
    {
      "cell_type": "markdown",
      "source": [
        "# Load the data"
      ],
      "metadata": {
        "id": "jlWIScSapOTS"
      }
    },
    {
      "cell_type": "markdown",
      "source": [
        "prepare the data"
      ],
      "metadata": {
        "id": "eql5gvX1MHE_"
      }
    },
    {
      "cell_type": "code",
      "source": [
        "! python download_dataset.py\n",
        "! python preprocess.py"
      ],
      "metadata": {
        "colab": {
          "base_uri": "https://localhost:8080/"
        },
        "id": "Vw7Tk2sSpNu4",
        "outputId": "1905248b-cedc-4810-8d54-8be196e435e2"
      },
      "execution_count": 4,
      "outputs": [
        {
          "output_type": "stream",
          "name": "stdout",
          "text": [
            "Downloaded the dataset to data/raw\n"
          ]
        }
      ]
    },
    {
      "cell_type": "markdown",
      "source": [
        "Create dataloader"
      ],
      "metadata": {
        "id": "r1--sPb3MI79"
      }
    },
    {
      "cell_type": "code",
      "source": [
        "from preprocess import create_loader\n",
        "\n",
        "x_train = create_loader(dirpath='data/interim/', alpha=0.01, batch_size=16)"
      ],
      "metadata": {
        "id": "Wpq1yGeKpbXR"
      },
      "execution_count": 5,
      "outputs": []
    },
    {
      "cell_type": "markdown",
      "source": [
        "Train autoencoder"
      ],
      "metadata": {
        "id": "Vip_wjbhMLUD"
      }
    },
    {
      "cell_type": "code",
      "source": [
        "from autoencoder import train_and_encode\n",
        "\n",
        "train_and_encode(x_train,\n",
        "                input_dim =28,\n",
        "                hidden_dim=16,\n",
        "                enc_dim=8,\n",
        "                epochs=100,\n",
        "                noise=0.0,\n",
        "                l1_weight=0.0,\n",
        "                l2_weight=0.0,\n",
        "                cpt_folder=\"models/\",\n",
        "                data_folder=\"data/interim/\"\n",
        "                )"
      ],
      "metadata": {
        "id": "tSYf9RLc-1ZH",
        "outputId": "e3120139-d9de-48e5-9373-b69d7936a96c",
        "colab": {
          "base_uri": "https://localhost:8080/"
        }
      },
      "execution_count": 6,
      "outputs": [
        {
          "output_type": "stream",
          "name": "stderr",
          "text": [
            "100%|██████████| 100/100 [00:18<00:00,  5.26it/s, Epoch 100. Average MSE loss + regularization: 0.023748235082474804]\n"
          ]
        }
      ]
    },
    {
      "cell_type": "markdown",
      "source": [
        "Train the final solution"
      ],
      "metadata": {
        "id": "gCIbJrwCMO4k"
      }
    },
    {
      "cell_type": "code",
      "source": [
        "from train import train_kmeans\n",
        "\n",
        "train_kmeans(\"encoded_ae_16_8_100_0_0_0_0000_0_0000.csv\")"
      ],
      "metadata": {
        "id": "Py0p6PMeKut2",
        "outputId": "e80f781c-7424-4916-8c86-36ea43965873",
        "colab": {
          "base_uri": "https://localhost:8080/"
        }
      },
      "execution_count": 8,
      "outputs": [
        {
          "output_type": "stream",
          "name": "stdout",
          "text": [
            "Saved results to data/interim/ratings.csv\n"
          ]
        }
      ]
    },
    {
      "cell_type": "markdown",
      "source": [
        "Visualize final mapping"
      ],
      "metadata": {
        "id": "9_M0ZxbLMW07"
      }
    },
    {
      "cell_type": "code",
      "source": [
        "import pandas as pd\n",
        "\n",
        "ratings = pd.read_csv(\"data/interim/ratings.csv\")\n",
        "ratings"
      ],
      "metadata": {
        "id": "LRez2l2sCP5v",
        "outputId": "edde0026-7de6-4357-bed9-8cf8438852d6",
        "colab": {
          "base_uri": "https://localhost:8080/",
          "height": 424
        }
      },
      "execution_count": 9,
      "outputs": [
        {
          "output_type": "execute_result",
          "data": {
            "text/plain": [
              "      movie_id         0         1         2         3         4         5  \\\n",
              "0            1  4.023810  3.905660  3.972973  3.720930  3.961538  3.586207   \n",
              "1            2  3.307692  3.032258  3.117647  3.142857  3.800000  3.714286   \n",
              "2            3  2.750000  2.947368  3.214286  3.444444  2.666667  2.714286   \n",
              "3            4  3.642857  3.460000  3.607143  3.565217  3.272727  3.000000   \n",
              "4            5  3.000000  3.166667  3.687500  2.909091  3.600000  3.800000   \n",
              "...        ...       ...       ...       ...       ...       ...       ...   \n",
              "1677      1678  4.666667  2.333333  1.000000  4.333333  4.000000  3.000000   \n",
              "1678      1679  2.972222  2.689394  3.000000  4.250000  3.700000  2.666667   \n",
              "1679      1680  3.555556  3.211310  2.000000  3.088889  3.125000  2.250000   \n",
              "1680      1681  3.125000  2.658575  3.000000  3.577778  3.242424  3.000000   \n",
              "1681      1682  3.000000  2.500000  3.000000  4.000000  3.000000  3.000000   \n",
              "\n",
              "             6         7         8         9  \n",
              "0     3.500000  3.800000  3.906250  4.250000  \n",
              "1     3.500000  3.000000  3.285714  2.714286  \n",
              "2     2.000000  3.333333  3.285714  2.250000  \n",
              "3     3.750000  3.600000  3.588235  4.125000  \n",
              "4     2.000000  3.000000  3.142857  4.000000  \n",
              "...        ...       ...       ...       ...  \n",
              "1677  3.000000  3.500000  3.000000  3.000000  \n",
              "1678  3.000000  3.600000  3.550000  3.250000  \n",
              "1679  3.000000  2.916667  3.916667  3.000000  \n",
              "1680  3.000000  4.277778  3.472727  2.357143  \n",
              "1681  3.333333  3.000000  2.750000  3.000000  \n",
              "\n",
              "[1682 rows x 11 columns]"
            ],
            "text/html": [
              "\n",
              "  <div id=\"df-20124cdf-da47-4a15-a91f-37fa7a7d21f5\" class=\"colab-df-container\">\n",
              "    <div>\n",
              "<style scoped>\n",
              "    .dataframe tbody tr th:only-of-type {\n",
              "        vertical-align: middle;\n",
              "    }\n",
              "\n",
              "    .dataframe tbody tr th {\n",
              "        vertical-align: top;\n",
              "    }\n",
              "\n",
              "    .dataframe thead th {\n",
              "        text-align: right;\n",
              "    }\n",
              "</style>\n",
              "<table border=\"1\" class=\"dataframe\">\n",
              "  <thead>\n",
              "    <tr style=\"text-align: right;\">\n",
              "      <th></th>\n",
              "      <th>movie_id</th>\n",
              "      <th>0</th>\n",
              "      <th>1</th>\n",
              "      <th>2</th>\n",
              "      <th>3</th>\n",
              "      <th>4</th>\n",
              "      <th>5</th>\n",
              "      <th>6</th>\n",
              "      <th>7</th>\n",
              "      <th>8</th>\n",
              "      <th>9</th>\n",
              "    </tr>\n",
              "  </thead>\n",
              "  <tbody>\n",
              "    <tr>\n",
              "      <th>0</th>\n",
              "      <td>1</td>\n",
              "      <td>4.023810</td>\n",
              "      <td>3.905660</td>\n",
              "      <td>3.972973</td>\n",
              "      <td>3.720930</td>\n",
              "      <td>3.961538</td>\n",
              "      <td>3.586207</td>\n",
              "      <td>3.500000</td>\n",
              "      <td>3.800000</td>\n",
              "      <td>3.906250</td>\n",
              "      <td>4.250000</td>\n",
              "    </tr>\n",
              "    <tr>\n",
              "      <th>1</th>\n",
              "      <td>2</td>\n",
              "      <td>3.307692</td>\n",
              "      <td>3.032258</td>\n",
              "      <td>3.117647</td>\n",
              "      <td>3.142857</td>\n",
              "      <td>3.800000</td>\n",
              "      <td>3.714286</td>\n",
              "      <td>3.500000</td>\n",
              "      <td>3.000000</td>\n",
              "      <td>3.285714</td>\n",
              "      <td>2.714286</td>\n",
              "    </tr>\n",
              "    <tr>\n",
              "      <th>2</th>\n",
              "      <td>3</td>\n",
              "      <td>2.750000</td>\n",
              "      <td>2.947368</td>\n",
              "      <td>3.214286</td>\n",
              "      <td>3.444444</td>\n",
              "      <td>2.666667</td>\n",
              "      <td>2.714286</td>\n",
              "      <td>2.000000</td>\n",
              "      <td>3.333333</td>\n",
              "      <td>3.285714</td>\n",
              "      <td>2.250000</td>\n",
              "    </tr>\n",
              "    <tr>\n",
              "      <th>3</th>\n",
              "      <td>4</td>\n",
              "      <td>3.642857</td>\n",
              "      <td>3.460000</td>\n",
              "      <td>3.607143</td>\n",
              "      <td>3.565217</td>\n",
              "      <td>3.272727</td>\n",
              "      <td>3.000000</td>\n",
              "      <td>3.750000</td>\n",
              "      <td>3.600000</td>\n",
              "      <td>3.588235</td>\n",
              "      <td>4.125000</td>\n",
              "    </tr>\n",
              "    <tr>\n",
              "      <th>4</th>\n",
              "      <td>5</td>\n",
              "      <td>3.000000</td>\n",
              "      <td>3.166667</td>\n",
              "      <td>3.687500</td>\n",
              "      <td>2.909091</td>\n",
              "      <td>3.600000</td>\n",
              "      <td>3.800000</td>\n",
              "      <td>2.000000</td>\n",
              "      <td>3.000000</td>\n",
              "      <td>3.142857</td>\n",
              "      <td>4.000000</td>\n",
              "    </tr>\n",
              "    <tr>\n",
              "      <th>...</th>\n",
              "      <td>...</td>\n",
              "      <td>...</td>\n",
              "      <td>...</td>\n",
              "      <td>...</td>\n",
              "      <td>...</td>\n",
              "      <td>...</td>\n",
              "      <td>...</td>\n",
              "      <td>...</td>\n",
              "      <td>...</td>\n",
              "      <td>...</td>\n",
              "      <td>...</td>\n",
              "    </tr>\n",
              "    <tr>\n",
              "      <th>1677</th>\n",
              "      <td>1678</td>\n",
              "      <td>4.666667</td>\n",
              "      <td>2.333333</td>\n",
              "      <td>1.000000</td>\n",
              "      <td>4.333333</td>\n",
              "      <td>4.000000</td>\n",
              "      <td>3.000000</td>\n",
              "      <td>3.000000</td>\n",
              "      <td>3.500000</td>\n",
              "      <td>3.000000</td>\n",
              "      <td>3.000000</td>\n",
              "    </tr>\n",
              "    <tr>\n",
              "      <th>1678</th>\n",
              "      <td>1679</td>\n",
              "      <td>2.972222</td>\n",
              "      <td>2.689394</td>\n",
              "      <td>3.000000</td>\n",
              "      <td>4.250000</td>\n",
              "      <td>3.700000</td>\n",
              "      <td>2.666667</td>\n",
              "      <td>3.000000</td>\n",
              "      <td>3.600000</td>\n",
              "      <td>3.550000</td>\n",
              "      <td>3.250000</td>\n",
              "    </tr>\n",
              "    <tr>\n",
              "      <th>1679</th>\n",
              "      <td>1680</td>\n",
              "      <td>3.555556</td>\n",
              "      <td>3.211310</td>\n",
              "      <td>2.000000</td>\n",
              "      <td>3.088889</td>\n",
              "      <td>3.125000</td>\n",
              "      <td>2.250000</td>\n",
              "      <td>3.000000</td>\n",
              "      <td>2.916667</td>\n",
              "      <td>3.916667</td>\n",
              "      <td>3.000000</td>\n",
              "    </tr>\n",
              "    <tr>\n",
              "      <th>1680</th>\n",
              "      <td>1681</td>\n",
              "      <td>3.125000</td>\n",
              "      <td>2.658575</td>\n",
              "      <td>3.000000</td>\n",
              "      <td>3.577778</td>\n",
              "      <td>3.242424</td>\n",
              "      <td>3.000000</td>\n",
              "      <td>3.000000</td>\n",
              "      <td>4.277778</td>\n",
              "      <td>3.472727</td>\n",
              "      <td>2.357143</td>\n",
              "    </tr>\n",
              "    <tr>\n",
              "      <th>1681</th>\n",
              "      <td>1682</td>\n",
              "      <td>3.000000</td>\n",
              "      <td>2.500000</td>\n",
              "      <td>3.000000</td>\n",
              "      <td>4.000000</td>\n",
              "      <td>3.000000</td>\n",
              "      <td>3.000000</td>\n",
              "      <td>3.333333</td>\n",
              "      <td>3.000000</td>\n",
              "      <td>2.750000</td>\n",
              "      <td>3.000000</td>\n",
              "    </tr>\n",
              "  </tbody>\n",
              "</table>\n",
              "<p>1682 rows × 11 columns</p>\n",
              "</div>\n",
              "    <div class=\"colab-df-buttons\">\n",
              "\n",
              "  <div class=\"colab-df-container\">\n",
              "    <button class=\"colab-df-convert\" onclick=\"convertToInteractive('df-20124cdf-da47-4a15-a91f-37fa7a7d21f5')\"\n",
              "            title=\"Convert this dataframe to an interactive table.\"\n",
              "            style=\"display:none;\">\n",
              "\n",
              "  <svg xmlns=\"http://www.w3.org/2000/svg\" height=\"24px\" viewBox=\"0 -960 960 960\">\n",
              "    <path d=\"M120-120v-720h720v720H120Zm60-500h600v-160H180v160Zm220 220h160v-160H400v160Zm0 220h160v-160H400v160ZM180-400h160v-160H180v160Zm440 0h160v-160H620v160ZM180-180h160v-160H180v160Zm440 0h160v-160H620v160Z\"/>\n",
              "  </svg>\n",
              "    </button>\n",
              "\n",
              "  <style>\n",
              "    .colab-df-container {\n",
              "      display:flex;\n",
              "      gap: 12px;\n",
              "    }\n",
              "\n",
              "    .colab-df-convert {\n",
              "      background-color: #E8F0FE;\n",
              "      border: none;\n",
              "      border-radius: 50%;\n",
              "      cursor: pointer;\n",
              "      display: none;\n",
              "      fill: #1967D2;\n",
              "      height: 32px;\n",
              "      padding: 0 0 0 0;\n",
              "      width: 32px;\n",
              "    }\n",
              "\n",
              "    .colab-df-convert:hover {\n",
              "      background-color: #E2EBFA;\n",
              "      box-shadow: 0px 1px 2px rgba(60, 64, 67, 0.3), 0px 1px 3px 1px rgba(60, 64, 67, 0.15);\n",
              "      fill: #174EA6;\n",
              "    }\n",
              "\n",
              "    .colab-df-buttons div {\n",
              "      margin-bottom: 4px;\n",
              "    }\n",
              "\n",
              "    [theme=dark] .colab-df-convert {\n",
              "      background-color: #3B4455;\n",
              "      fill: #D2E3FC;\n",
              "    }\n",
              "\n",
              "    [theme=dark] .colab-df-convert:hover {\n",
              "      background-color: #434B5C;\n",
              "      box-shadow: 0px 1px 3px 1px rgba(0, 0, 0, 0.15);\n",
              "      filter: drop-shadow(0px 1px 2px rgba(0, 0, 0, 0.3));\n",
              "      fill: #FFFFFF;\n",
              "    }\n",
              "  </style>\n",
              "\n",
              "    <script>\n",
              "      const buttonEl =\n",
              "        document.querySelector('#df-20124cdf-da47-4a15-a91f-37fa7a7d21f5 button.colab-df-convert');\n",
              "      buttonEl.style.display =\n",
              "        google.colab.kernel.accessAllowed ? 'block' : 'none';\n",
              "\n",
              "      async function convertToInteractive(key) {\n",
              "        const element = document.querySelector('#df-20124cdf-da47-4a15-a91f-37fa7a7d21f5');\n",
              "        const dataTable =\n",
              "          await google.colab.kernel.invokeFunction('convertToInteractive',\n",
              "                                                    [key], {});\n",
              "        if (!dataTable) return;\n",
              "\n",
              "        const docLinkHtml = 'Like what you see? Visit the ' +\n",
              "          '<a target=\"_blank\" href=https://colab.research.google.com/notebooks/data_table.ipynb>data table notebook</a>'\n",
              "          + ' to learn more about interactive tables.';\n",
              "        element.innerHTML = '';\n",
              "        dataTable['output_type'] = 'display_data';\n",
              "        await google.colab.output.renderOutput(dataTable, element);\n",
              "        const docLink = document.createElement('div');\n",
              "        docLink.innerHTML = docLinkHtml;\n",
              "        element.appendChild(docLink);\n",
              "      }\n",
              "    </script>\n",
              "  </div>\n",
              "\n",
              "\n",
              "<div id=\"df-93ccb68d-6617-4287-92cc-07eaa8cfce48\">\n",
              "  <button class=\"colab-df-quickchart\" onclick=\"quickchart('df-93ccb68d-6617-4287-92cc-07eaa8cfce48')\"\n",
              "            title=\"Suggest charts\"\n",
              "            style=\"display:none;\">\n",
              "\n",
              "<svg xmlns=\"http://www.w3.org/2000/svg\" height=\"24px\"viewBox=\"0 0 24 24\"\n",
              "     width=\"24px\">\n",
              "    <g>\n",
              "        <path d=\"M19 3H5c-1.1 0-2 .9-2 2v14c0 1.1.9 2 2 2h14c1.1 0 2-.9 2-2V5c0-1.1-.9-2-2-2zM9 17H7v-7h2v7zm4 0h-2V7h2v10zm4 0h-2v-4h2v4z\"/>\n",
              "    </g>\n",
              "</svg>\n",
              "  </button>\n",
              "\n",
              "<style>\n",
              "  .colab-df-quickchart {\n",
              "      --bg-color: #E8F0FE;\n",
              "      --fill-color: #1967D2;\n",
              "      --hover-bg-color: #E2EBFA;\n",
              "      --hover-fill-color: #174EA6;\n",
              "      --disabled-fill-color: #AAA;\n",
              "      --disabled-bg-color: #DDD;\n",
              "  }\n",
              "\n",
              "  [theme=dark] .colab-df-quickchart {\n",
              "      --bg-color: #3B4455;\n",
              "      --fill-color: #D2E3FC;\n",
              "      --hover-bg-color: #434B5C;\n",
              "      --hover-fill-color: #FFFFFF;\n",
              "      --disabled-bg-color: #3B4455;\n",
              "      --disabled-fill-color: #666;\n",
              "  }\n",
              "\n",
              "  .colab-df-quickchart {\n",
              "    background-color: var(--bg-color);\n",
              "    border: none;\n",
              "    border-radius: 50%;\n",
              "    cursor: pointer;\n",
              "    display: none;\n",
              "    fill: var(--fill-color);\n",
              "    height: 32px;\n",
              "    padding: 0;\n",
              "    width: 32px;\n",
              "  }\n",
              "\n",
              "  .colab-df-quickchart:hover {\n",
              "    background-color: var(--hover-bg-color);\n",
              "    box-shadow: 0 1px 2px rgba(60, 64, 67, 0.3), 0 1px 3px 1px rgba(60, 64, 67, 0.15);\n",
              "    fill: var(--button-hover-fill-color);\n",
              "  }\n",
              "\n",
              "  .colab-df-quickchart-complete:disabled,\n",
              "  .colab-df-quickchart-complete:disabled:hover {\n",
              "    background-color: var(--disabled-bg-color);\n",
              "    fill: var(--disabled-fill-color);\n",
              "    box-shadow: none;\n",
              "  }\n",
              "\n",
              "  .colab-df-spinner {\n",
              "    border: 2px solid var(--fill-color);\n",
              "    border-color: transparent;\n",
              "    border-bottom-color: var(--fill-color);\n",
              "    animation:\n",
              "      spin 1s steps(1) infinite;\n",
              "  }\n",
              "\n",
              "  @keyframes spin {\n",
              "    0% {\n",
              "      border-color: transparent;\n",
              "      border-bottom-color: var(--fill-color);\n",
              "      border-left-color: var(--fill-color);\n",
              "    }\n",
              "    20% {\n",
              "      border-color: transparent;\n",
              "      border-left-color: var(--fill-color);\n",
              "      border-top-color: var(--fill-color);\n",
              "    }\n",
              "    30% {\n",
              "      border-color: transparent;\n",
              "      border-left-color: var(--fill-color);\n",
              "      border-top-color: var(--fill-color);\n",
              "      border-right-color: var(--fill-color);\n",
              "    }\n",
              "    40% {\n",
              "      border-color: transparent;\n",
              "      border-right-color: var(--fill-color);\n",
              "      border-top-color: var(--fill-color);\n",
              "    }\n",
              "    60% {\n",
              "      border-color: transparent;\n",
              "      border-right-color: var(--fill-color);\n",
              "    }\n",
              "    80% {\n",
              "      border-color: transparent;\n",
              "      border-right-color: var(--fill-color);\n",
              "      border-bottom-color: var(--fill-color);\n",
              "    }\n",
              "    90% {\n",
              "      border-color: transparent;\n",
              "      border-bottom-color: var(--fill-color);\n",
              "    }\n",
              "  }\n",
              "</style>\n",
              "\n",
              "  <script>\n",
              "    async function quickchart(key) {\n",
              "      const quickchartButtonEl =\n",
              "        document.querySelector('#' + key + ' button');\n",
              "      quickchartButtonEl.disabled = true;  // To prevent multiple clicks.\n",
              "      quickchartButtonEl.classList.add('colab-df-spinner');\n",
              "      try {\n",
              "        const charts = await google.colab.kernel.invokeFunction(\n",
              "            'suggestCharts', [key], {});\n",
              "      } catch (error) {\n",
              "        console.error('Error during call to suggestCharts:', error);\n",
              "      }\n",
              "      quickchartButtonEl.classList.remove('colab-df-spinner');\n",
              "      quickchartButtonEl.classList.add('colab-df-quickchart-complete');\n",
              "    }\n",
              "    (() => {\n",
              "      let quickchartButtonEl =\n",
              "        document.querySelector('#df-93ccb68d-6617-4287-92cc-07eaa8cfce48 button');\n",
              "      quickchartButtonEl.style.display =\n",
              "        google.colab.kernel.accessAllowed ? 'block' : 'none';\n",
              "    })();\n",
              "  </script>\n",
              "</div>\n",
              "    </div>\n",
              "  </div>\n"
            ]
          },
          "metadata": {},
          "execution_count": 9
        }
      ]
    },
    {
      "cell_type": "markdown",
      "source": [
        "# Inference"
      ],
      "metadata": {
        "id": "dH0WaC5X44Fm"
      }
    },
    {
      "cell_type": "markdown",
      "source": [
        "## Root mean squared error\n",
        "On train set"
      ],
      "metadata": {
        "id": "-8R4gG13vELX"
      }
    },
    {
      "cell_type": "code",
      "source": [
        "!python benchmark/evaluate.py rmse -u data/interim/clustered_ae_16_8_100_0_0_0_0000_0_0000.csv -t data/interim/train.csv"
      ],
      "metadata": {
        "id": "iIN61DoSvMdD",
        "outputId": "42f6936e-5f17-4fa7-af59-d3d421c0c33d",
        "colab": {
          "base_uri": "https://localhost:8080/"
        }
      },
      "execution_count": 53,
      "outputs": [
        {
          "output_type": "stream",
          "name": "stdout",
          "text": [
            "Root mean squared error of predictions is: 0.9219278662363498\n"
          ]
        }
      ]
    },
    {
      "cell_type": "markdown",
      "source": [
        "On test set"
      ],
      "metadata": {
        "id": "71pEsrhQvapF"
      }
    },
    {
      "cell_type": "code",
      "source": [
        "!python benchmark/evaluate.py rmse -u data/interim/clustered_ae_16_8_100_0_0_0_0000_0_0000.csv"
      ],
      "metadata": {
        "colab": {
          "base_uri": "https://localhost:8080/"
        },
        "id": "dhM43xKV42PO",
        "outputId": "cddadc01-f85a-497f-eba4-466a933724cb"
      },
      "execution_count": 38,
      "outputs": [
        {
          "output_type": "stream",
          "name": "stdout",
          "text": [
            "Root mean squared error of predictions is: 1.105870230887717\n"
          ]
        }
      ]
    },
    {
      "cell_type": "markdown",
      "source": [
        "We can see that the test set results are noticably worse. This may be because due to poor handling of \"similar\" movies"
      ],
      "metadata": {
        "id": "WS2Uv1G3vceb"
      }
    },
    {
      "cell_type": "markdown",
      "source": [
        "## Precision, recall"
      ],
      "metadata": {
        "id": "jvRVYniKvylY"
      }
    },
    {
      "cell_type": "markdown",
      "source": [
        "On train set"
      ],
      "metadata": {
        "id": "T_TXSoewwC_T"
      }
    },
    {
      "cell_type": "code",
      "source": [
        "!python benchmark/evaluate.py pr -t data/interim/train.csv -u data/interim/clustered_ae_16_8_100_0_0_0_0000_0_0000.csv"
      ],
      "metadata": {
        "id": "uIAno2WLv_jH",
        "outputId": "e0bbfb44-087f-40bb-bbd4-9d7044f77f08",
        "colab": {
          "base_uri": "https://localhost:8080/"
        }
      },
      "execution_count": 54,
      "outputs": [
        {
          "output_type": "stream",
          "name": "stdout",
          "text": [
            "Metrics of your data:\n",
            "Precision -  0.7202\n",
            "Recall    -  0.7575\n"
          ]
        }
      ]
    },
    {
      "cell_type": "markdown",
      "source": [
        "On test set"
      ],
      "metadata": {
        "id": "fQOlx4wTwFbQ"
      }
    },
    {
      "cell_type": "code",
      "source": [
        "!python benchmark/evaluate.py pr -u data/interim/clustered_ae_16_8_100_0_0_0_0000_0_0000.csv"
      ],
      "metadata": {
        "colab": {
          "base_uri": "https://localhost:8080/"
        },
        "id": "hqpZ8nEcMltf",
        "outputId": "2497a724-7620-40bd-a61f-138010634e95"
      },
      "execution_count": 55,
      "outputs": [
        {
          "output_type": "stream",
          "name": "stdout",
          "text": [
            "Metrics of your data:\n",
            "Precision -  0.6749\n",
            "Recall    -  0.6945\n"
          ]
        }
      ]
    },
    {
      "cell_type": "markdown",
      "source": [
        "The results are better than random and somehow comparable with the results of the benchmark article (0.77 and 0.8), so we casn consider this a success"
      ],
      "metadata": {
        "id": "OtVRhTdCwG3y"
      }
    }
  ]
}